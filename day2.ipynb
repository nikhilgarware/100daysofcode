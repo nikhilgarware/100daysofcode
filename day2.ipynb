{
 "cells": [
  {
   "cell_type": "markdown",
   "metadata": {},
   "source": [
    "# 100Daysofcode"
   ]
  },
  {
   "cell_type": "markdown",
   "metadata": {},
   "source": [
    "## Day-2 List/Array in Python"
   ]
  },
  {
   "cell_type": "markdown",
   "metadata": {},
   "source": [
    "##  #100Daysofcoding"
   ]
  },
  {
   "cell_type": "markdown",
   "metadata": {},
   "source": [
    "Note: In python Array and List play the same role. Python dose not have any build in function for array, but it has some function for list such as append for adding element to list."
   ]
  },
  {
   "cell_type": "markdown",
   "metadata": {},
   "source": [
    "Array/List in python is denoted by : <br>\n",
    "\n",
    "dataset = ['data1','data2','data3']<br>\n",
    "\n"
   ]
  },
  {
   "cell_type": "code",
   "execution_count": 1,
   "metadata": {},
   "outputs": [
    {
     "name": "stdout",
     "output_type": "stream",
     "text": [
      "First Element: data1\n",
      "Second Element: data2\n",
      "Third Elements: data3\n"
     ]
    }
   ],
   "source": [
    "set = ['data1','data2','data3'] #Set is the array/list name & data1,data2 data3 are the elements of the array\n",
    "print(\"First Element: \"+set[0])\n",
    "print(\"Second Element: \"+set[1])\n",
    "print(\"Third Elements: \"+set[2])"
   ]
  },
  {
   "cell_type": "raw",
   "metadata": {},
   "source": [
    "Entering the elements in the array/list taking input from the user using for loop"
   ]
  },
  {
   "cell_type": "code",
   "execution_count": 20,
   "metadata": {},
   "outputs": [
    {
     "name": "stdout",
     "output_type": "stream",
     "text": [
      "Enter the Number of Elements Array5\n",
      "Enter the Element1\n",
      "Enter the Element2\n",
      "Enter the Element3\n",
      "Enter the Element4\n",
      "Enter the Element5\n",
      "The array is [1, 2, 3, 4, 5]\n"
     ]
    }
   ],
   "source": [
    "n = int(input(\"Enter the Number of Elements Array\"))\n",
    "arr = []\n",
    "\n",
    "for i in range(0,n):\n",
    "    x = int(input(\"Enter the Element\"))\n",
    "    arr.append(x)\n",
    "\n",
    "print(\"The array is\",arr)\n"
   ]
  },
  {
   "cell_type": "markdown",
   "metadata": {},
   "source": [
    "Getting the location of Particular element in list"
   ]
  },
  {
   "cell_type": "code",
   "execution_count": 26,
   "metadata": {},
   "outputs": [
    {
     "name": "stdout",
     "output_type": "stream",
     "text": [
      "Enter the Number of Elements Array5\n",
      "Enter the Element1\n",
      "Enter the Element2\n",
      "Enter the Element3\n",
      "Enter the Element4\n",
      "Enter the Element5\n",
      "Enter the element to find from the array5\n",
      "Element found at Location 5\n"
     ]
    }
   ],
   "source": [
    "n = int(input(\"Enter the Number of Elements Array\"))\n",
    "arr = []\n",
    "\n",
    "for i in range(0,n):\n",
    "    x = int(input(\"Enter the Element\"))\n",
    "    arr.append(x)\n",
    "tofind = int(input(\"Enter the element to find from the array\"))\n",
    "for i in range(0,n):\n",
    "    if arr[i] == tofind:\n",
    "        print(\"Element found at Location\",i+1)\n",
    "        flag = 1\n",
    "        if flag != 1:\n",
    "            print(\"Element Not found\")\n",
    "\n",
    "    "
   ]
  },
  {
   "cell_type": "markdown",
   "metadata": {},
   "source": [
    "Swaping the element from the list"
   ]
  },
  {
   "cell_type": "code",
   "execution_count": 31,
   "metadata": {},
   "outputs": [
    {
     "name": "stdout",
     "output_type": "stream",
     "text": [
      "Enter the Number of Elements Array5\n",
      "Enter the Element1\n",
      "Enter the Element2\n",
      "Enter the Element3\n",
      "Enter the Element4\n",
      "Enter the Element5\n",
      "Enter the first element to swap1\n",
      "Enter the second element to swap5\n",
      "The final list is [1, 2, 3, 4, 5]\n",
      "*************************Program not fully executed. Runs with error************************************************\n"
     ]
    }
   ],
   "source": [
    "n = int(input(\"Enter the Number of Elements Array\"))\n",
    "arr = []\n",
    "\n",
    "for i in range(0,n):\n",
    "    x = int(input(\"Enter the Element\"))\n",
    "    arr.append(x)\n",
    "swap1 = int(input(\"Enter the first element to swap\"))\n",
    "swap2 = int(input(\"Enter the second element to swap\"))\n",
    "for i in range(0,n):\n",
    "    if arr[i] == swap1:\n",
    "        temp = arr[i]\n",
    "        for j in range(0,n):\n",
    "            if arr[j] == swap2:\n",
    "                arr[j]==swap2\n",
    "                swap2==temp\n",
    "\n",
    "print(\"The final list is\",arr)\n",
    "print(\"*************************Program not fully executed. Runs with error************************************************\")"
   ]
  },
  {
   "cell_type": "code",
   "execution_count": null,
   "metadata": {},
   "outputs": [],
   "source": []
  }
 ],
 "metadata": {
  "kernelspec": {
   "display_name": "Python 3",
   "language": "python",
   "name": "python3"
  },
  "language_info": {
   "codemirror_mode": {
    "name": "ipython",
    "version": 3
   },
   "file_extension": ".py",
   "mimetype": "text/x-python",
   "name": "python",
   "nbconvert_exporter": "python",
   "pygments_lexer": "ipython3",
   "version": "3.8.3"
  }
 },
 "nbformat": 4,
 "nbformat_minor": 4
}
