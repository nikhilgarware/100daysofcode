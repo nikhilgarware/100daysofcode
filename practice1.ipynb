{
 "cells": [
  {
   "cell_type": "markdown",
   "metadata": {},
   "source": [
    "# Python programs for Practice"
   ]
  },
  {
   "cell_type": "markdown",
   "metadata": {},
   "source": [
    "1. Program to find the square root of the number."
   ]
  },
  {
   "cell_type": "code",
   "execution_count": 11,
   "metadata": {},
   "outputs": [
    {
     "name": "stdout",
     "output_type": "stream",
     "text": [
      "Enter the Number you want to find the square root of?144\n",
      "The Square Root is 12.0\n"
     ]
    }
   ],
   "source": [
    "import math\n",
    "n = int(input(\"Enter the Number you want to find the square root of?\"))\n",
    "ans = math.sqrt(n)\n",
    "print(\"The Square Root is\", abs(ans) )"
   ]
  },
  {
   "cell_type": "markdown",
   "metadata": {},
   "source": [
    "2. Program to Calculate the Area of Triangle"
   ]
  },
  {
   "cell_type": "code",
   "execution_count": 14,
   "metadata": {},
   "outputs": [
    {
     "name": "stdout",
     "output_type": "stream",
     "text": [
      "Enter the length of base of the triangle75.36\n",
      "Enter the length of height of the triangel36.3\n",
      "The Area of the triangle is 1367.7839999999999\n"
     ]
    }
   ],
   "source": [
    "l = float(input(\"Enter the length of base of the triangle\"))\n",
    "h = float(input(\"Enter the length of height of the triangel\"))\n",
    "area = (l*h)/2\n",
    "print(\"The Area of the triangle is\", area)"
   ]
  },
  {
   "cell_type": "markdown",
   "metadata": {},
   "source": [
    "3. Program to swap two variable"
   ]
  },
  {
   "cell_type": "code",
   "execution_count": 20,
   "metadata": {},
   "outputs": [
    {
     "name": "stdout",
     "output_type": "stream",
     "text": [
      "Enter the variable 1 to swap5\n",
      "Enter the variable 2 to swap6\n",
      "Variable befor Swapping are:\n",
      " First Variable 5\n",
      " Second Variable 6\n",
      "The Variable after Swapping are:\n",
      " First Variable6\n",
      " Second Variable 5\n"
     ]
    }
   ],
   "source": [
    "var1 = input(\"Enter the variable 1 to swap\")\n",
    "var2 = input(\"Enter the variable 2 to swap\")\n",
    "print(\"Variable befor Swapping are:\\n First Variable \"+var1+\"\\n Second Variable \"+var2 )\n",
    "temp = var1 # value of var1 is stored in temp\n",
    "var1 = var2 # value of var 2 is stored in var1\n",
    "var2 = temp # value of temp is re-stored in var1\n",
    "print(\"The Variable after Swapping are:\\n First Variable\"+var1+\"\\n Second Variable \"+var2)"
   ]
  },
  {
   "cell_type": "markdown",
   "metadata": {},
   "source": [
    "Program to generate Random Number"
   ]
  },
  {
   "cell_type": "code",
   "execution_count": 24,
   "metadata": {},
   "outputs": [
    {
     "name": "stdout",
     "output_type": "stream",
     "text": [
      "22\n"
     ]
    }
   ],
   "source": [
    "import random\n",
    "a = random.randint(1,50) # Random is the function used to genetrate randon number's \n",
    "print(a)"
   ]
  },
  {
   "cell_type": "markdown",
   "metadata": {},
   "source": [
    "Random number guessing game"
   ]
  },
  {
   "cell_type": "code",
   "execution_count": 29,
   "metadata": {},
   "outputs": [
    {
     "name": "stdout",
     "output_type": "stream",
     "text": [
      "Guess the number?5\n",
      "It was not even close, The number was 48\n"
     ]
    }
   ],
   "source": [
    "import random\n",
    "a = random.randint(1,50)\n",
    "guess = int(input(\"Guess the number?\"))\n",
    "if (guess-a > 5):\n",
    "    print(\"Ohh it was close! , The Number was\",a)\n",
    "elif (guess-a > 10):\n",
    "    print(\"Wrong!, Try again\")\n",
    "else :\n",
    "    print(\"It was not even close, The number was\",a)"
   ]
  },
  {
   "cell_type": "markdown",
   "metadata": {},
   "source": [
    "Program to calculate Time in Seconds"
   ]
  },
  {
   "cell_type": "code",
   "execution_count": 33,
   "metadata": {},
   "outputs": [
    {
     "name": "stdout",
     "output_type": "stream",
     "text": [
      "Enter the hr5\n",
      "Enter the min5\n",
      "Enter the sec5\n",
      "The Total time in seconds is 18305\n"
     ]
    }
   ],
   "source": [
    "hr = int(input(\"Enter the hr\"))\n",
    "mine = int(input(\"Enter the min\"))\n",
    "sec = int(input(\"Enter the sec\"))\n",
    "final = hr * 3600 + mine * 60 + sec\n",
    "print(\"The Total time in seconds is\",final)"
   ]
  },
  {
   "cell_type": "raw",
   "metadata": {},
   "source": [
    "\n"
   ]
  }
 ],
 "metadata": {
  "kernelspec": {
   "display_name": "Python 3",
   "language": "python",
   "name": "python3"
  },
  "language_info": {
   "codemirror_mode": {
    "name": "ipython",
    "version": 3
   },
   "file_extension": ".py",
   "mimetype": "text/x-python",
   "name": "python",
   "nbconvert_exporter": "python",
   "pygments_lexer": "ipython3",
   "version": "3.8.3"
  }
 },
 "nbformat": 4,
 "nbformat_minor": 4
}
