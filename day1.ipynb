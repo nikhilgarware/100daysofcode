{
 "cells": [
  {
   "cell_type": "markdown",
   "metadata": {},
   "source": [
    "# 100Daysofcode"
   ]
  },
  {
   "cell_type": "markdown",
   "metadata": {},
   "source": [
    "## Day-1 Python Arithmetic Operation's & Nested-If-Else"
   ]
  },
  {
   "cell_type": "markdown",
   "metadata": {},
   "source": [
    "## #100Daysofcoding"
   ]
  },
  {
   "cell_type": "markdown",
   "metadata": {},
   "source": [
    "Starting with basic's of Python "
   ]
  },
  {
   "cell_type": "code",
   "execution_count": 2,
   "metadata": {},
   "outputs": [
    {
     "name": "stdout",
     "output_type": "stream",
     "text": [
      "Python basics\n"
     ]
    }
   ],
   "source": [
    "print(\"Python basics\")"
   ]
  },
  {
   "cell_type": "code",
   "execution_count": 3,
   "metadata": {},
   "outputs": [
    {
     "name": "stdout",
     "output_type": "stream",
     "text": [
      "Math Operation's using python \n",
      "1. Addition \n",
      "2. Subtraction \n",
      "3. Multiplication  \n",
      "4. Division\n"
     ]
    }
   ],
   "source": [
    "print(\"Math Operation's using python \\n1. Addition \\n2. Subtraction \\n3. Multiplication  \\n4. Division\")"
   ]
  },
  {
   "cell_type": "markdown",
   "metadata": {},
   "source": [
    "This is the Addition Operation"
   ]
  },
  {
   "cell_type": "code",
   "execution_count": 4,
   "metadata": {},
   "outputs": [
    {
     "name": "stdout",
     "output_type": "stream",
     "text": [
      "Enter element x5\n",
      "Enter element y5\n",
      "The Addition of the digit is 10\n"
     ]
    }
   ],
   "source": [
    "x = int(input(\"Enter element x\"))\n",
    "y = int(input(\"Enter element y\"))\n",
    "add = x+y\n",
    "print(\"The Addition of the digit is\",add)"
   ]
  },
  {
   "cell_type": "markdown",
   "metadata": {},
   "source": [
    "This is the subtraction operation\n"
   ]
  },
  {
   "cell_type": "code",
   "execution_count": 5,
   "metadata": {},
   "outputs": [
    {
     "name": "stdout",
     "output_type": "stream",
     "text": [
      "Enter element x9\n",
      "Enter element y5\n",
      "The Subtraction of the digit is 4\n"
     ]
    }
   ],
   "source": [
    "x = int(input(\"Enter element x\"))\n",
    "y = int(input(\"Enter element y\"))\n",
    "sub = x-y\n",
    "print(\"The Subtraction of the digit is\",sub)"
   ]
  },
  {
   "cell_type": "markdown",
   "metadata": {},
   "source": [
    "This is the MUltiplication Operation"
   ]
  },
  {
   "cell_type": "code",
   "execution_count": 6,
   "metadata": {},
   "outputs": [
    {
     "name": "stdout",
     "output_type": "stream",
     "text": [
      "Enter element x5\n",
      "Enter element y6\n",
      "The Multiplication of the digit is 30\n"
     ]
    }
   ],
   "source": [
    "x = int(input(\"Enter element x\"))\n",
    "y = int(input(\"Enter element y\"))\n",
    "mul = x*y\n",
    "print(\"The Multiplication of the digit is\",mul)"
   ]
  },
  {
   "cell_type": "markdown",
   "metadata": {},
   "source": [
    "This is the division operation "
   ]
  },
  {
   "cell_type": "code",
   "execution_count": 7,
   "metadata": {},
   "outputs": [
    {
     "name": "stdout",
     "output_type": "stream",
     "text": [
      "Enter element x6\n",
      "Enter element y3\n",
      "The Division of the digit is 2.0\n"
     ]
    }
   ],
   "source": [
    "x = int(input(\"Enter element x\"))\n",
    "y = int(input(\"Enter element y\"))\n",
    "div = x/y\n",
    "print(\"The Division of the digit is\",div)"
   ]
  },
  {
   "cell_type": "markdown",
   "metadata": {},
   "source": [
    "<b>Selection of operation's using nested if-else</b>"
   ]
  },
  {
   "cell_type": "markdown",
   "metadata": {},
   "source": [
    "<b>Nested if-else Syntax Example</b>  \n",
    " "
   ]
  },
  {
   "cell_type": "code",
   "execution_count": 8,
   "metadata": {},
   "outputs": [
    {
     "name": "stdout",
     "output_type": "stream",
     "text": [
      "Select operation you want to perform\n",
      "Math Operation's using python \n",
      "1. Addition \n",
      "2. Subtraction \n",
      "3. Multiplication  \n",
      "4. Division4\n",
      "Enter element x144\n",
      "Enter element y12\n",
      "The Division of the digit is 12.0\n"
     ]
    }
   ],
   "source": [
    "print(\"Select operation you want to perform\")\n",
    "op = int(input(\"Math Operation's using python \\n1. Addition \\n2. Subtraction \\n3. Multiplication  \\n4. Division\"))\n",
    "if op==1:\n",
    "    x = int(input(\"Enter element x\"))\n",
    "    y = int(input(\"Enter element y\"))\n",
    "    add = x+y\n",
    "    print(\"The Addition of the digit is\",add)\n",
    "elif op==2:\n",
    "    x = int(input(\"Enter element x\"))\n",
    "    y = int(input(\"Enter element y\"))\n",
    "    sub = x-y\n",
    "    print(\"The Subtraction of the digit is\",sub)\n",
    "elif op==3:\n",
    "    x = int(input(\"Enter element x\"))\n",
    "    y = int(input(\"Enter element y\"))\n",
    "    mul = x*y\n",
    "    print(\"The Multiplication of the digit is\",mul)\n",
    "elif op==4:\n",
    "    x = int(input(\"Enter element x\"))\n",
    "    y = int(input(\"Enter element y\"))\n",
    "    div = x/y\n",
    "    print(\"The Division of the digit is\",div)\n",
    "else:\n",
    "    print(\"Invalid Input \")"
   ]
  },
  {
   "cell_type": "code",
   "execution_count": null,
   "metadata": {},
   "outputs": [],
   "source": []
  }
 ],
 "metadata": {
  "kernelspec": {
   "display_name": "Python 3",
   "language": "python",
   "name": "python3"
  },
  "language_info": {
   "codemirror_mode": {
    "name": "ipython",
    "version": 3
   },
   "file_extension": ".py",
   "mimetype": "text/x-python",
   "name": "python",
   "nbconvert_exporter": "python",
   "pygments_lexer": "ipython3",
   "version": "3.8.3"
  }
 },
 "nbformat": 4,
 "nbformat_minor": 4
}
